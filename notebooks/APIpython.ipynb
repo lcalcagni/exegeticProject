{
 "cells": [
  {
   "cell_type": "markdown",
   "metadata": {},
   "source": [
    "# Getting familiar with the API using Python\n",
    "\n",
    "In this section I explore the Trundler API using Python.\n",
    "I convert the response of the requests into a Pandas DataFrame, then I get the names of the columns and shape in order to know the type of data I am dealing with."
   ]
  },
  {
   "cell_type": "markdown",
   "metadata": {},
   "source": [
    "## Requests and responses\n",
    "I write the following script to get the desired information:"
   ]
  },
  {
   "cell_type": "code",
   "execution_count": null,
   "metadata": {},
   "outputs": [],
   "source": [
    "import requests\n",
    "import json\n",
    "import pandas as pd\n",
    "\n",
    "headers = {\n",
    "    'accept': 'application/json',\n",
    "    'X-Api-Key': {my_API_key},\n",
    "}\n",
    "\n",
    "retailer_id = {retailer_id}\n",
    "product_id = {product_id}\n",
    "\n",
    "endpoints = ['/retailer',\n",
    "            '/retailer/'+ str(retailer_id),\n",
    "            '/retailer/'+ str(retailer_id) +'/product',\n",
    "            '/product',\n",
    "            '/product/'+ str(product_id),\n",
    "            '/product/'+ str(product_id) +'/price'\n",
    "           ]\n",
    "\n",
    "for end in endpoints:\n",
    "    response = requests.get('https://api.trundler.dev/'+end, headers=headers)\n",
    "    j_response = json.loads(response.text)\n",
    "    df = pd.DataFrame(pd.json_normalize(j_response))\n",
    "    \n",
    "    print(\"--Endpoint--\", end)\n",
    "    print(\"Shape: \",df.shape)\n",
    "    print(\"Columns: \",df.columns,\"\\n\")"
   ]
  }
 ],
 "metadata": {
  "kernelspec": {
   "display_name": "Python 3",
   "language": "python",
   "name": "python3"
  },
  "language_info": {
   "codemirror_mode": {
    "name": "ipython",
    "version": 3
   },
   "file_extension": ".py",
   "mimetype": "text/x-python",
   "name": "python",
   "nbconvert_exporter": "python",
   "pygments_lexer": "ipython3",
   "version": "3.7.7"
  }
 },
 "nbformat": 4,
 "nbformat_minor": 4
}
